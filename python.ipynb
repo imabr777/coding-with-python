{
 "cells": [
  {
   "cell_type": "markdown",
   "metadata": {},
   "source": [
    "# Intro to Python \n",
    "## By Abraham Im\n",
    "## For GEOG458"
   ]
  },
  {
   "cell_type": "markdown",
   "metadata": {},
   "source": [
    "# Task 1\n",
    "There is one Jupyter Notebook which shows how to implement a k-Means algorithm, an algorithm used for cluster analysis in data mining. I find it particularly interesting because it has so many applications, such as the one used in the notebook, which was identifying handwritten digits. I think this could have many applications, so this notebook is very exciting to see and read. You can find it [here](https://nbviewer.jupyter.org/github/temporaer/tutorial_ml_gkbionics/blob/master/2%20-%20KMeans.ipynb)."
   ]
  },
  {
   "cell_type": "markdown",
   "metadata": {},
   "source": [
    "# Task 2\n",
    "According to [data36.com](https://data36.com/python-libraries-packages-data-scientists/), the top 5 packages used in data science are:\n",
    "* Numpy\n",
    "* Pandas\n",
    "* Matplotlib\n",
    "* Scikit-Learn\n",
    "* Scipy\n",
    "\n",
    "Where R has ggplot2, there is a *grammar of graphics* implementation in Python based on ggplot2, called [plotnine](https://github.com/has2k1/plotnine). It has a similar API and syntax to ggplot2, making it a good Python equivalent.\n",
    "\n",
    "Pandas, which is listed above as one of the top packages for data science, has dataframes for data analysis, just like in R. Particularly pandas-ply is a Python implementation of dplyr, along with Dplython, which can be useful since they use very similar syntax and grammar. "
   ]
  },
  {
   "cell_type": "markdown",
   "metadata": {},
   "source": [
    "# Task 3\n",
    "The differences between Python and R syntax are many, but here are some interesting ones.\n",
    "\n",
    "For calling packages/libraries, Python uses an \"import\" statement \n",
    "        \n",
    "        import random \n",
    "        \n",
    "while R uses a library function\n",
    "        \n",
    "        library(dplyr)\n",
    "\n",
    "Another difference is in reading data from a CSV. In R, the command is pretty straightforward and comes as part of the readr package in tidyverse \n",
    "\n",
    "        data <- read_csv(\"filepath.csv\")\n",
    "        \n",
    "while in Python, the same statement is called as a function of the pandas library.\n",
    "\n",
    "        import pandas\n",
    "        data = pandas.read_csv(\"filepath.csv\")\n",
    "        \n",
    "Python has a built-in CSV library, but it does not read the data into a dataframe, which comes as a part of the pandas library. I read that R has a built-in read.csv() function but strangely I couldn't find documentation for it in on [rdocumentation.org](rdocumentation.org). If it does exist, it seems that the only difference in syntax is that readr's function uses an underscore while R's is a dot (but that indicates somewhat big differences underneath the hood. Also, there might be additional arguments to both that differ, but I couldn't confirm this, again, because I couldn't find documentation for read.csv().)\n",
    "\n",
    "An interesting small difference is that boolean values in Python are written with first letter capitalization while they are all caps in R (eg. Python: \"True\" R: \"FALSE\")"
   ]
  },
  {
   "cell_type": "markdown",
   "metadata": {},
   "source": [
    "# Task 4"
   ]
  },
  {
   "cell_type": "code",
   "execution_count": 77,
   "metadata": {},
   "outputs": [
    {
     "name": "stdout",
     "output_type": "stream",
     "text": [
      "Hello world, I am not a snake\n"
     ]
    }
   ],
   "source": [
    "word1 = \"Hello\"\n",
    "word2 = \"world,\"\n",
    "word3 = \"I am not\"\n",
    "word4 = \"a snake\"\n",
    "print word1 + \" \" + word2 + \" \" + word3 + \" \" + word4"
   ]
  },
  {
   "cell_type": "markdown",
   "metadata": {},
   "source": [
    "# Task 5"
   ]
  },
  {
   "cell_type": "code",
   "execution_count": 78,
   "metadata": {},
   "outputs": [
    {
     "name": "stdout",
     "output_type": "stream",
     "text": [
      "1 HELLO WORLD, I AM NOT A SNAKE\n"
     ]
    }
   ],
   "source": [
    "number = 1\n",
    "string = str(number) + \" \" + word1 + \" \" + word2 + \" \" + word3 + \" \" + word4\n",
    "print string.upper()"
   ]
  },
  {
   "cell_type": "markdown",
   "metadata": {},
   "source": [
    "# Task 6"
   ]
  },
  {
   "cell_type": "code",
   "execution_count": 79,
   "metadata": {},
   "outputs": [
    {
     "data": {
      "text/plain": [
       "'1 Hello world, I am not a snake'"
      ]
     },
     "execution_count": 79,
     "metadata": {},
     "output_type": "execute_result"
    }
   ],
   "source": [
    "word_list = [str(number),word1,word2,word3,word4]\n",
    "space = \" \"\n",
    "sentence = space.join(wordlist)\n",
    "sentence"
   ]
  },
  {
   "cell_type": "code",
   "execution_count": 80,
   "metadata": {},
   "outputs": [
    {
     "data": {
      "text/plain": [
       "3"
      ]
     },
     "execution_count": 80,
     "metadata": {},
     "output_type": "execute_result"
    }
   ],
   "source": [
    "sentence.count(\"a\")"
   ]
  },
  {
   "cell_type": "code",
   "execution_count": 81,
   "metadata": {},
   "outputs": [
    {
     "data": {
      "text/plain": [
       "26"
      ]
     },
     "execution_count": 81,
     "metadata": {},
     "output_type": "execute_result"
    }
   ],
   "source": [
    "sentence.find(\"snak\")"
   ]
  },
  {
   "cell_type": "markdown",
   "metadata": {},
   "source": [
    "# Task 7"
   ]
  },
  {
   "cell_type": "code",
   "execution_count": 82,
   "metadata": {},
   "outputs": [
    {
     "data": {
      "text/plain": [
       "'1 Hello world, '"
      ]
     },
     "execution_count": 82,
     "metadata": {},
     "output_type": "execute_result"
    }
   ],
   "source": [
    "sentence[0:(len(sentence)/2)]"
   ]
  },
  {
   "cell_type": "markdown",
   "metadata": {},
   "source": [
    "# Task 8"
   ]
  },
  {
   "cell_type": "code",
   "execution_count": 83,
   "metadata": {},
   "outputs": [],
   "source": [
    "sentence = sentence.strip(\"1\")"
   ]
  },
  {
   "cell_type": "markdown",
   "metadata": {},
   "source": [
    "# Task 9"
   ]
  },
  {
   "cell_type": "code",
   "execution_count": 84,
   "metadata": {},
   "outputs": [
    {
     "data": {
      "text/plain": [
       "['Hello', 'world,', 'I', 'am', 'not', 'a', 'snake']"
      ]
     },
     "execution_count": 84,
     "metadata": {},
     "output_type": "execute_result"
    }
   ],
   "source": [
    "sentence_split = sentence.split()\n",
    "sentence_split"
   ]
  },
  {
   "cell_type": "code",
   "execution_count": 85,
   "metadata": {},
   "outputs": [
    {
     "data": {
      "text/plain": [
       "['Hello', 'world,', 'earthlings', 'I', 'am', 'not', 'a', 'snake']"
      ]
     },
     "execution_count": 85,
     "metadata": {},
     "output_type": "execute_result"
    }
   ],
   "source": [
    "sentence_split.insert(2, \"earthlings\")\n",
    "sentence_split"
   ]
  },
  {
   "cell_type": "markdown",
   "metadata": {},
   "source": [
    "# Task 10"
   ]
  },
  {
   "cell_type": "code",
   "execution_count": 86,
   "metadata": {},
   "outputs": [
    {
     "name": "stdout",
     "output_type": "stream",
     "text": [
      "90\n",
      "4th Quartile\n"
     ]
    }
   ],
   "source": [
    "import random\n",
    "rand_num = random.randint(1,100)\n",
    "print str(rand_num)\n",
    "if rand_num <= 25:\n",
    "    print \"1st Quartile\"\n",
    "elif (25 < rand_num and rand_num <= 50):\n",
    "    print \"2nd Quartile\"\n",
    "elif (50 < rand_num and rand_num <= 75):\n",
    "    print \"3rd Quartile\"\n",
    "elif (75 < rand_num and rand_num <= 100):\n",
    "    print \"4th Quartile\""
   ]
  },
  {
   "cell_type": "markdown",
   "metadata": {},
   "source": [
    "# Task 11"
   ]
  },
  {
   "cell_type": "code",
   "execution_count": 87,
   "metadata": {},
   "outputs": [
    {
     "name": "stdout",
     "output_type": "stream",
     "text": [
      "Warning, residents of Chicago, IL, temperatures will reach sub-zero temperatures today, please stay indoors if possible\n",
      "Warning, residents of Indianapolis, IN, temperatures will reach sub-zero temperatures today, please stay indoors if possible\n",
      "Warning, residents of Columbus, OH, temperatures will reach sub-zero temperatures today, please stay indoors if possible\n",
      "Warning, residents of Detroit, MI, temperatures will reach sub-zero temperatures today, please stay indoors if possible\n",
      "Warning, residents of Milwaukee, WI, temperatures will reach sub-zero temperatures today, please stay indoors if possible\n",
      "Warning, residents of Kansas City, MI, temperatures will reach sub-zero temperatures today, please stay indoors if possible\n"
     ]
    }
   ],
   "source": [
    "cities = [\"Chicago, IL\", \"Indianapolis, IN\", \"Columbus, OH\", \"Detroit, MI\", \"Milwaukee, WI\", \"Kansas City, MI\"]\n",
    "for city in cities:\n",
    "    print \"Warning, residents of \" + city + \", temperatures will reach sub-zero temperatures today, please stay indoors if possible\""
   ]
  },
  {
   "cell_type": "markdown",
   "metadata": {},
   "source": [
    "# Task 12"
   ]
  },
  {
   "cell_type": "code",
   "execution_count": 88,
   "metadata": {},
   "outputs": [
    {
     "name": "stdout",
     "output_type": "stream",
     "text": [
      "U://Users/Im/Geog_458/Washington.shp\n",
      "U://Users/Im/Geog_458/California.shp\n",
      "U://Users/Im/Geog_458/Nevada.shp\n",
      "U://Users/Im/Geog_458/Idaho.shp\n",
      "U://Users/Im/Geog_458/Montana.shp\n",
      "U://Users/Im/Geog_458/Utah.shp\n",
      "U://Users/Im/Geog_458/Colorado.shp\n",
      "U://Users/Im/Geog_458/New Mexico.shp\n"
     ]
    },
    {
     "data": {
      "text/plain": [
       "['U://Users/Im/Geog_458/Washington.shp',\n",
       " 'U://Users/Im/Geog_458/California.shp',\n",
       " 'U://Users/Im/Geog_458/Nevada.shp',\n",
       " 'U://Users/Im/Geog_458/Idaho.shp',\n",
       " 'U://Users/Im/Geog_458/Montana.shp',\n",
       " 'U://Users/Im/Geog_458/Utah.shp',\n",
       " 'U://Users/Im/Geog_458/Colorado.shp',\n",
       " 'U://Users/Im/Geog_458/New Mexico.shp']"
      ]
     },
     "execution_count": 88,
     "metadata": {},
     "output_type": "execute_result"
    }
   ],
   "source": [
    "states = [\"Washington\",\"California\",\"Nevada\",\"Idaho\",\"Montana\",\"Utah\",\"Colorado\",\"New Mexico\"]\n",
    "result_list = []\n",
    "for state in states:\n",
    "    temp = \"U://Users/Im/Geog_458/\" + state + \".shp\"\n",
    "    result_list.append(temp)\n",
    "    print temp\n",
    "result_list"
   ]
  },
  {
   "cell_type": "markdown",
   "metadata": {},
   "source": [
    "# Task 13"
   ]
  },
  {
   "cell_type": "code",
   "execution_count": 89,
   "metadata": {},
   "outputs": [
    {
     "name": "stdout",
     "output_type": "stream",
     "text": [
      "T-minus 10\n",
      "T-minus 9\n",
      "T-minus 8\n",
      "T-minus 7\n",
      "T-minus 6\n",
      "T-minus 5\n",
      "T-minus 4\n",
      "T-minus 3\n",
      "T-minus 2\n",
      "T-minus 1\n",
      "T-minus 0\n"
     ]
    }
   ],
   "source": [
    "x = 10\n",
    "while x >= 0:\n",
    "    print \"T-minus \" + str(x)\n",
    "    x -= 1"
   ]
  },
  {
   "cell_type": "markdown",
   "metadata": {},
   "source": [
    "# Task 14"
   ]
  },
  {
   "cell_type": "code",
   "execution_count": 90,
   "metadata": {},
   "outputs": [
    {
     "name": "stdout",
     "output_type": "stream",
     "text": [
      "T-minus 17\n",
      "T-minus 16\n",
      "T-minus 15\n",
      "T-minus 14\n",
      "T-minus 13\n",
      "T-minus 12\n",
      "T-minus 11\n",
      "T-minus 10\n",
      "T-minus 9\n",
      "T-minus 8\n",
      "T-minus 7\n",
      "T-minus 6\n",
      "T-minus 5\n",
      "T-minus 4\n",
      "T-minus 3\n",
      "T-minus 2\n",
      "T-minus 1\n",
      "T-minus 0\n"
     ]
    }
   ],
   "source": [
    "def countdown(start):\n",
    "    while start >= 0:\n",
    "        print \"T-minus \" + str(start)\n",
    "        start -= 1\n",
    "countdown(17)"
   ]
  },
  {
   "cell_type": "markdown",
   "metadata": {},
   "source": [
    "# Task 15"
   ]
  },
  {
   "cell_type": "code",
   "execution_count": 93,
   "metadata": {},
   "outputs": [
    {
     "name": "stdout",
     "output_type": "stream",
     "text": [
      "1st Quartile\n",
      "2nd Quartile\n",
      "3rd Quartile\n",
      "4th Quartile\n",
      "Error\n",
      "Error\n",
      "1st Quartile\n",
      "4th Quartile\n"
     ]
    }
   ],
   "source": [
    "def quartile_calc(num):\n",
    "    if (0 <= num and num <= 25):\n",
    "        print \"1st Quartile\"\n",
    "    elif (25 < num and num <= 50):\n",
    "        print \"2nd Quartile\"\n",
    "    elif (50 < num and num <= 75):\n",
    "        print \"3rd Quartile\"\n",
    "    elif (75 < num and num <= 100):\n",
    "        print \"4th Quartile\"\n",
    "    else:\n",
    "        print \"Error\"\n",
    "quartile_calc(5)\n",
    "quartile_calc(35)\n",
    "quartile_calc(55)\n",
    "quartile_calc(85)\n",
    "quartile_calc(-5)\n",
    "quartile_calc(105)\n",
    "quartile_calc(0)\n",
    "quartile_calc(100)"
   ]
  }
 ],
 "metadata": {
  "kernelspec": {
   "display_name": "Python 2",
   "language": "python",
   "name": "python2"
  },
  "language_info": {
   "codemirror_mode": {
    "name": "ipython",
    "version": 2
   },
   "file_extension": ".py",
   "mimetype": "text/x-python",
   "name": "python",
   "nbconvert_exporter": "python",
   "pygments_lexer": "ipython2",
   "version": "2.7.15"
  }
 },
 "nbformat": 4,
 "nbformat_minor": 2
}
